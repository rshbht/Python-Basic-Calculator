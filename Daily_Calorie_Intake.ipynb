{
  "nbformat": 4,
  "nbformat_minor": 0,
  "metadata": {
    "colab": {
      "provenance": []
    },
    "kernelspec": {
      "name": "python3",
      "display_name": "Python 3"
    },
    "language_info": {
      "name": "python"
    }
  },
  "cells": [
    {
      "cell_type": "code",
      "source": [
        "# Prompt the user to input their age, gender, weight, height, and activity level\n",
        "age = int(input(\"Enter your age: \"))\n",
        "gender = input(\"Enter your gender (male or female): \")\n",
        "weight = float(input(\"Enter your weight in pounds: \"))\n",
        "height = float(input(\"Enter your height in inches: \"))\n",
        "activity_level = input(\"Enter your activity level (sedentary, lightly active, moderately active, very active, or extra active): \")\n",
        "\n",
        "# Calculate the user's basal metabolic rate (BMR)\n",
        "if gender.lower() == \"male\":\n",
        "    bmr = 88.36 + (13.4 * weight) + (4.8 * height) - (5.7 * age)\n",
        "else:\n",
        "    bmr = 447.6 + (9.2 * weight) + (3.1 * height) - (4.3 * age)\n",
        "\n",
        "# Calculate the user's total daily energy expenditure (TDEE) based on their activity level\n",
        "if activity_level.lower() == \"sedentary\":\n",
        "    tdee = bmr * 1.2\n",
        "elif activity_level.lower() == \"lightly active\":\n",
        "    tdee = bmr * 1.375\n",
        "elif activity_level.lower() == \"moderately active\":\n",
        "    tdee = bmr * 1.55\n",
        "elif activity_level.lower() == \"very active\":\n",
        "    tdee = bmr * 1.725\n",
        "else:\n",
        "    tdee = bmr * 1.9\n",
        "\n",
        "# Print the result\n",
        "print(\"Your daily calorie needs are:\", round(tdee, 2), \"calories.\")\n"
      ],
      "metadata": {
        "id": "9j8VvyMsDG8e"
      },
      "execution_count": null,
      "outputs": []
    }
  ]
}