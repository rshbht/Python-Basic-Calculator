{
  "nbformat": 4,
  "nbformat_minor": 0,
  "metadata": {
    "colab": {
      "provenance": []
    },
    "kernelspec": {
      "name": "python3",
      "display_name": "Python 3"
    },
    "language_info": {
      "name": "python"
    }
  },
  "cells": [
    {
      "cell_type": "code",
      "source": [
        "import datetime\n",
        "\n",
        "date_string = input(\"Enter a date (in dd/mm/yyyy format): \")\n",
        "day, month, year = map(int, date_string.split('/'))\n",
        "\n",
        "day_of_week = datetime.date(year, month, day).strftime(\"%A\")\n",
        "\n",
        "print(\"The day of the week is:\", day_of_week)\n"
      ],
      "metadata": {
        "id": "vSUivdjaf7c4"
      },
      "execution_count": null,
      "outputs": []
    }
  ]
}