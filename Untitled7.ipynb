{
  "nbformat": 4,
  "nbformat_minor": 0,
  "metadata": {
    "colab": {
      "provenance": []
    },
    "kernelspec": {
      "name": "python3",
      "display_name": "Python 3"
    },
    "language_info": {
      "name": "python"
    }
  },
  "cells": [
    {
      "cell_type": "code",
      "execution_count": 1,
      "metadata": {
        "colab": {
          "base_uri": "https://localhost:8080/"
        },
        "id": "Xyx1feRGJqSs",
        "outputId": "81905651-93d8-49ad-9e37-699454d2e96f"
      },
      "outputs": [
        {
          "output_type": "stream",
          "name": "stdout",
          "text": [
            "Select operation (+, -, *, /): +\n",
            "Enter first number: 12\n",
            "Enter second number: 32\n",
            "Result:  44.0\n"
          ]
        }
      ],
      "source": [
        "# define a function for addition\n",
        "def add(x, y):\n",
        "    return x + y\n",
        "\n",
        "# define a function for subtraction\n",
        "def subtract(x, y):\n",
        "    return x - y\n",
        "\n",
        "# define a function for multiplication\n",
        "def multiply(x, y):\n",
        "    return x * y\n",
        "\n",
        "# define a function for division\n",
        "def divide(x, y):\n",
        "    if y == 0:\n",
        "        raise ValueError(\"Cannot divide by zero!\")\n",
        "    return x / y\n",
        "\n",
        "# get input from the user\n",
        "operation = input(\"Select operation (+, -, *, /): \")\n",
        "num1 = float(input(\"Enter first number: \"))\n",
        "num2 = float(input(\"Enter second number: \"))\n",
        "\n",
        "# perform the selected operation\n",
        "if operation == '+':\n",
        "    result = add(num1, num2)\n",
        "elif operation == '-':\n",
        "    result = subtract(num1, num2)\n",
        "elif operation == '*':\n",
        "    result = multiply(num1, num2)\n",
        "elif operation == '/':\n",
        "    result = divide(num1, num2)\n",
        "else:\n",
        "    raise ValueError(\"Invalid operation selected.\")\n",
        "\n",
        "# print the result\n",
        "print(\"Result: \", result)"
      ]
    }
  ]
}