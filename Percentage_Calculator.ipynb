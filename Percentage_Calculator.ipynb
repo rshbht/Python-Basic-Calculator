{
  "nbformat": 4,
  "nbformat_minor": 0,
  "metadata": {
    "colab": {
      "provenance": []
    },
    "kernelspec": {
      "name": "python3",
      "display_name": "Python 3"
    },
    "language_info": {
      "name": "python"
    }
  },
  "cells": [
    {
      "cell_type": "code",
      "source": [
        "# Get user input for obtained marks and total marks\n",
        "obtained_marks = float(input(\"Enter the obtained marks: \"))\n",
        "total_marks = float(input(\"Enter the total marks: \"))\n",
        "\n",
        "# Calculate the percentage\n",
        "percentage = (obtained_marks / total_marks) * 100\n",
        "\n",
        "# Print the percentage to the console\n",
        "print(f\"The percentage is: {percentage}%\")\n"
      ],
      "metadata": {
        "id": "TWo5871p81nE"
      },
      "execution_count": null,
      "outputs": []
    }
  ]
}