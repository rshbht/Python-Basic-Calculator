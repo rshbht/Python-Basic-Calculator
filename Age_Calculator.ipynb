{
  "nbformat": 4,
  "nbformat_minor": 0,
  "metadata": {
    "colab": {
      "provenance": []
    },
    "kernelspec": {
      "name": "python3",
      "display_name": "Python 3"
    },
    "language_info": {
      "name": "python"
    }
  },
  "cells": [
    {
      "cell_type": "code",
      "execution_count": 10,
      "metadata": {
        "id": "tNjT6qch9I2O",
        "outputId": "817ce48c-e203-4afd-c364-a36fa5970d83",
        "colab": {
          "base_uri": "https://localhost:8080/"
        }
      },
      "outputs": [
        {
          "output_type": "stream",
          "name": "stdout",
          "text": [
            "Enter your birth date (YYYY-MM-DD): 1997-03-25\n",
            "You are 25 years old.\n"
          ]
        }
      ],
      "source": [
        "import datetime\n",
        "\n",
        "def calculate_age(birth_date):\n",
        "    \"\"\"Calculate age based on birth date\"\"\"\n",
        "    today = datetime.date.today()\n",
        "    age = today.year - birth_date.year - ((today.month, today.day) < (birth_date.month, birth_date.day))\n",
        "    return age\n",
        "\n",
        "# Get birth date from user input\n",
        "birth_date_str = input(\"Enter your birth date (YYYY-MM-DD): \")\n",
        "birth_date = datetime.datetime.strptime(birth_date_str, \"%Y-%m-%d\").date()\n",
        "\n",
        "# Calculate age and print result\n",
        "age = calculate_age(birth_date)\n",
        "print(f\"You are {age} years old.\")\n"
      ]
    }
  ]
}