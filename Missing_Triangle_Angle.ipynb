{
  "nbformat": 4,
  "nbformat_minor": 0,
  "metadata": {
    "colab": {
      "provenance": []
    },
    "kernelspec": {
      "name": "python3",
      "display_name": "Python 3"
    },
    "language_info": {
      "name": "python"
    }
  },
  "cells": [
    {
      "cell_type": "code",
      "source": [
        "# Prompt the user to enter the first and second angles of the triangle\n",
        "angle1 = float(input(\"Enter the first angle in degrees: \"))\n",
        "angle2 = float(input(\"Enter the second angle in degrees: \"))\n",
        "\n",
        "# Calculate the third angle by subtracting the sum of the first two angles from 180 degrees\n",
        "angle3 = 180 - angle1 - angle2\n",
        "\n",
        "# Print the third angle to the console\n",
        "print(\"The third angle is: {:.2f} degrees\".format(angle3))\n"
      ],
      "metadata": {
        "id": "S5a6iah9ob9N"
      },
      "execution_count": null,
      "outputs": []
    }
  ]
}