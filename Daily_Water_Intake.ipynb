{
  "nbformat": 4,
  "nbformat_minor": 0,
  "metadata": {
    "colab": {
      "provenance": []
    },
    "kernelspec": {
      "name": "python3",
      "display_name": "Python 3"
    },
    "language_info": {
      "name": "python"
    }
  },
  "cells": [
    {
      "cell_type": "code",
      "source": [
        "# Define the recommended water intake per kilogram of body weight, based on activity level\n",
        "WATER_INTAKE = {\"sedentary\": 0.03, \"moderate\": 0.04, \"active\": 0.05}\n",
        "\n",
        "# Prompt the user to input their weight in kilograms and activity level\n",
        "weight = float(input(\"Enter your weight in kilograms: \"))\n",
        "activity_level = input(\"Enter your activity level (sedentary, moderate, or active): \")\n",
        "\n",
        "# Calculate the recommended water intake based on the user's weight and activity level\n",
        "water_intake = WATER_INTAKE.get(activity_level.lower(), 0.03) * weight\n",
        "\n",
        "# Convert the result from liters to milliliters\n",
        "water_intake_ml = round(water_intake * 1000, 2)\n",
        "\n",
        "# Print the result\n",
        "print(\"Your recommended daily water intake is:\", water_intake_ml, \"milliliters.\")\n"
      ],
      "metadata": {
        "id": "gPJO-KhDCsT8"
      },
      "execution_count": null,
      "outputs": []
    }
  ]
}