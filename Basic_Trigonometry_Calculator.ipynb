{
  "nbformat": 4,
  "nbformat_minor": 0,
  "metadata": {
    "colab": {
      "provenance": []
    },
    "kernelspec": {
      "name": "python3",
      "display_name": "Python 3"
    },
    "language_info": {
      "name": "python"
    }
  },
  "cells": [
    {
      "cell_type": "code",
      "source": [
        "import math\n",
        "\n",
        "angle = float(input(\"Enter angle in degrees: \"))\n",
        "\n",
        "sin = math.sin(math.radians(angle))\n",
        "cos = math.cos(math.radians(angle))\n",
        "tan = math.tan(math.radians(angle))\n",
        "\n",
        "print(\"Sin({}) = {:.2f}\".format(angle, sin))\n",
        "print(\"Cos({}) = {:.2f}\".format(angle, cos))\n",
        "print(\"Tan({}) = {:.2f}\".format(angle, tan))"
      ],
      "metadata": {
        "id": "xaCHuylql0xh"
      },
      "execution_count": null,
      "outputs": []
    }
  ]
}