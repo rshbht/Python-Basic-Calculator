{
  "nbformat": 4,
  "nbformat_minor": 0,
  "metadata": {
    "colab": {
      "provenance": []
    },
    "kernelspec": {
      "name": "python3",
      "display_name": "Python 3"
    },
    "language_info": {
      "name": "python"
    }
  },
  "cells": [
    {
      "cell_type": "code",
      "source": [
        "# Define a dictionary of Morse code characters\n",
        "morse_code = {\n",
        "    'A': '.-',     'B': '-...',   'C': '-.-.',\n",
        "    'D': '-..',    'E': '.',      'F': '..-.',\n",
        "    'G': '--.',    'H': '....',   'I': '..',\n",
        "    'J': '.---',   'K': '-.-',    'L': '.-..',\n",
        "    'M': '--',     'N': '-.',     'O': '---',\n",
        "    'P': '.--.',   'Q': '--.-',   'R': '.-.',\n",
        "    'S': '...',    'T': '-',      'U': '..-',\n",
        "    'V': '...-',   'W': '.--',    'X': '-..-',\n",
        "    'Y': '-.--',   'Z': '--..',   ' ': '/',\n",
        "    '0': '-----',  '1': '.----',  '2': '..---',\n",
        "    '3': '...--',  '4': '....-',  '5': '.....',\n",
        "    '6': '-....',  '7': '--...',  '8': '---..',\n",
        "    '9': '----.'\n",
        "}\n",
        "\n",
        "# Ask the user to enter a sentence\n",
        "sentence = input('Enter a sentence to convert to Morse code: ')\n",
        "\n",
        "# Convert each character in the sentence to Morse code\n",
        "morse_sentence = ''\n",
        "for char in sentence.upper():\n",
        "    if char in morse_code:\n",
        "        morse_sentence += morse_code[char] + ' '\n",
        "    else:\n",
        "        morse_sentence += char + ' '\n",
        "\n",
        "# Print the Morse code sentence\n",
        "print('Morse code sentence: ', morse_sentence)\n"
      ],
      "metadata": {
        "id": "_d0uEFoMAZkG"
      },
      "execution_count": null,
      "outputs": []
    }
  ]
}