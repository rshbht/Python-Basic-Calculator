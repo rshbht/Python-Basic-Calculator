{
  "nbformat": 4,
  "nbformat_minor": 0,
  "metadata": {
    "colab": {
      "provenance": []
    },
    "kernelspec": {
      "name": "python3",
      "display_name": "Python 3"
    },
    "language_info": {
      "name": "python"
    }
  },
  "cells": [
    {
      "cell_type": "code",
      "source": [
        "# Prompt the user to input their birth month and day\n",
        "month = int(input(\"Enter your birth month (1-12): \"))\n",
        "day = int(input(\"Enter your birth day (1-31): \"))\n",
        "\n",
        "# Define a list of zodiac signs and the corresponding start and end dates\n",
        "zodiac_signs = [\n",
        "    (\"Capricorn\", 1, 1, 1, 19),\n",
        "    (\"Aquarius\", 1, 20, 2, 18),\n",
        "    (\"Pisces\", 2, 19, 3, 20),\n",
        "    (\"Aries\", 3, 21, 4, 19),\n",
        "    (\"Taurus\", 4, 20, 5, 20),\n",
        "    (\"Gemini\", 5, 21, 6, 20),\n",
        "    (\"Cancer\", 6, 21, 7, 22),\n",
        "    (\"Leo\", 7, 23, 8, 22),\n",
        "    (\"Virgo\", 8, 23, 9, 22),\n",
        "    (\"Libra\", 9, 23, 10, 22),\n",
        "    (\"Scorpio\", 10, 23, 11, 21),\n",
        "    (\"Sagittarius\", 11, 22, 12, 21),\n",
        "    (\"Capricorn\", 12, 22, 12, 31)\n",
        "]\n",
        "\n",
        "# Find the zodiac sign based on the input month and day\n",
        "for sign, start_month, start_day, end_month, end_day in zodiac_signs:\n",
        "    if (month == start_month and day >= start_day) or (month == end_month and day <= end_day):\n",
        "        print(\"Your zodiac sign is:\", sign)\n",
        "        break\n"
      ],
      "metadata": {
        "id": "F7uKtt47Ern7"
      },
      "execution_count": null,
      "outputs": []
    }
  ]
}