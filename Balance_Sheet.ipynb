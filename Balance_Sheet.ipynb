{
  "nbformat": 4,
  "nbformat_minor": 0,
  "metadata": {
    "colab": {
      "provenance": []
    },
    "kernelspec": {
      "name": "python3",
      "display_name": "Python 3"
    },
    "language_info": {
      "name": "python"
    }
  },
  "cells": [
    {
      "cell_type": "code",
      "source": [
        "from itertools import zip_longest\n",
        "\n",
        "# Define a function to create a balance sheet\n",
        "def create_balance_sheet():\n",
        "\n",
        "    # Get user input for the business name and date\n",
        "    business_name = input(\"Enter the name of your business: \")\n",
        "    balance_date = input(\"Enter the date of your balance sheet (e.g. 31/12/2022): \")\n",
        "\n",
        "    # Get user input for the assets and liabilities\n",
        "    assets = []\n",
        "    liabilities = []\n",
        "\n",
        "    # Ask for assets\n",
        "    print(\"\\nEnter the details of your assets: \")\n",
        "    while True:\n",
        "        asset_name = input(\"Enter the name of the asset (or 'q' to quit): \")\n",
        "        if asset_name.lower() == 'q':\n",
        "            break\n",
        "        asset_amount = float(input(\"Enter the amount of the asset: \"))\n",
        "        assets.append([asset_name, asset_amount])\n",
        "\n",
        "    # Ask for liabilities\n",
        "    print(\"\\nEnter the details of your liabilities: \")\n",
        "    while True:\n",
        "        liability_name = input(\"Enter the name of the liability (or 'q' to quit): \")\n",
        "        if liability_name.lower() == 'q':\n",
        "            break\n",
        "        liability_amount = float(input(\"Enter the amount of the liability: \"))\n",
        "        liabilities.append([liability_name, liability_amount])\n",
        "\n",
        "    # Calculate total assets and liabilities\n",
        "    total_assets = sum([asset[1] for asset in assets])\n",
        "    total_liabilities = sum([liability[1] for liability in liabilities])\n",
        "\n",
        "    # Print out the balance sheet\n",
        "    print(f\"\\n{' '*10}{business_name}\")\n",
        "    print(f\"{' '*5}Balance Sheet as of {balance_date}\")\n",
        "    print(f\"\\n{' '*10}{'Assets':<20}{'Liabilities':<20}\")\n",
        "    print(f\"{'-'*50}\")\n",
        "    for asset, liability in zip_longest(assets, liabilities, fillvalue=['','']):\n",
        "        asset_name = asset[0] if asset else ''\n",
        "        asset_amount = asset[1] if asset else 0\n",
        "        liability_name = liability[0] if liability else ''\n",
        "        liability_amount = liability[1] if liability else 0\n",
        "        print(f\"{' '*10}{asset_name:<20}${asset_amount:<20,.2f}{liability_name:<20}${liability_amount:<20,.2f}\")\n",
        "    print(f\"{'-'*50}\")\n",
        "    print(f\"{' '*10}{'Total Assets:':<20}${total_assets:<20,.2f}{'Total Liabilities:':<20}${total_liabilities:<20,.2f}\")\n",
        "    print(f\"{'-'*50}\")\n",
        "    print(f\"{' '*10}{'Equity:':<20}${total_assets-total_liabilities:<20,.2f}\")\n",
        "\n",
        "# Call the function to create a balance sheet\n",
        "create_balance_sheet()\n"
      ],
      "metadata": {
        "id": "xzlH2o2aFz85"
      },
      "execution_count": null,
      "outputs": []
    }
  ]
}